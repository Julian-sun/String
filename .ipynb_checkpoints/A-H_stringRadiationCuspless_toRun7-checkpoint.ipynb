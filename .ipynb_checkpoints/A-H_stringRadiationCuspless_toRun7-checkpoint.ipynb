{
 "cells": [
  {
   "cell_type": "code",
   "execution_count": 2,
   "metadata": {},
   "outputs": [],
   "source": [
    "import numpy as np\n",
    "import matplotlib.pyplot as plt\n",
    "from scipy.integrate import odeint\n",
    "from scipy import integrate\n",
    "from pylab import *\n",
    "from sympy.solvers import solve\n",
    "from sympy import Symbol\n",
    "from sympy import exp, pi\n",
    "from scipy.integrate import odeint\n",
    "from scipy import integrate\n",
    "import scipy.optimize\n",
    "\n",
    "from scipy.optimize import minimize\n",
    "from scipy.optimize import minimize_scalar\n",
    "\n",
    "import scipy.integrate as integrate\n",
    "import scipy.special as special\n",
    "\n",
    "from scipy.special import kn\n",
    "from scipy import integrate\n",
    "\n",
    "from scipy.integrate import quad, dblquad\n",
    "from scipy.integrate import dblquad\n",
    "\n",
    "from mpmath import nsum, exp, inf\n",
    "\n"
   ]
  },
  {
   "cell_type": "code",
   "execution_count": 3,
   "metadata": {},
   "outputs": [],
   "source": [
    "def epN(a,theta,phi):\n",
    "    return np.sin(theta)*np.cos(a/2+phi)\n",
    "\n",
    "def emN(a,theta,phi):\n",
    "    return np.sin(theta)*np.cos(a/2-phi)\n",
    "\n",
    "def emep(a):\n",
    "    return np.cos(a)\n",
    "\n",
    "def Cr(a,theta):\n",
    "    return (np.cos(theta) * np.sin(a))**2\n",
    "\n",
    "def Dp(n,no,a,theta,phi):\n",
    "    return (1.0-(-1.0)**n*np.cos( np.pi*n*np.sqrt(1.0-(no/n)**2)*epN(a,theta,phi) ) ) / \\\n",
    "               ( n**2*(1.0-(1.0-(no/n)**2)*epN(a,theta,phi)**2 )**2 )\n",
    "\n",
    "def Dm(n,no,a,theta,phi):\n",
    "    return (1.0-(-1.0)**n*np.cos( np.pi*n*np.sqrt(1.0-(no/n)**2)*emN(a,theta,phi) ) ) / \\\n",
    "               ( n**2*(1.0-(1.0-(no/n)**2)*emN(a,theta,phi)**2 )**2 )\n",
    "\n",
    "def Gn(eta,n,no,a,theta,phi):\n",
    "    return 2.0/np.pi*eta**2*n**2*np.sqrt(1.0-(no/n)**2)*Dp(n,no,a,theta,phi)*Dm(n,no,a,theta,phi)*\\\n",
    "            Cr(a,theta)*( 1.0 + 2.0*(no/n)**2  )\n",
    "\n",
    "def GnInt(eta,n,no,a):\n",
    "    return (dblquad(lambda phi, theta: np.sin(theta)*Gn(eta,n,no,a,theta,phi), \\\n",
    "                                        0, np.pi, lambda x: 0, lambda x: 2*np.pi))"
   ]
  },
  {
   "cell_type": "code",
   "execution_count": 4,
   "metadata": {},
   "outputs": [],
   "source": [
    "\n",
    "GnSet20 = np.linspace(0,0,100)\n",
    "\n",
    "for i in range(20,100):\n",
    "    GnSet20[i] = GnInt(1,NSet[i],20.0,np.pi/2)[0]\n",
    "    \n",
    "np.savetxt(\"DataGn/GnSet20_05pi.out\", GnSet20 )\n",
    "\n",
    "GnSet25 = np.linspace(0,0,100)\n",
    "\n",
    "for i in range(25,100):\n",
    "    GnSet25[i] = GnInt(1,NSet[i],25.0,np.pi/2)[0]\n",
    "    \n",
    "np.savetxt(\"DataGn/GnSet25_05pi.out\", GnSet25 )\n"
   ]
  },
  {
   "cell_type": "code",
   "execution_count": null,
   "metadata": {},
   "outputs": [],
   "source": []
  }
 ],
 "metadata": {
  "kernelspec": {
   "display_name": "Python 3 (ipykernel)",
   "language": "python",
   "name": "python3"
  },
  "language_info": {
   "codemirror_mode": {
    "name": "ipython",
    "version": 3
   },
   "file_extension": ".py",
   "mimetype": "text/x-python",
   "name": "python",
   "nbconvert_exporter": "python",
   "pygments_lexer": "ipython3",
   "version": "3.9.12"
  }
 },
 "nbformat": 4,
 "nbformat_minor": 1
}
